{
 "cells": [
  {
   "cell_type": "code",
   "execution_count": null,
   "metadata": {
    "id": "I1apcow5dxii"
   },
   "outputs": [],
   "source": []
  },
  {
   "cell_type": "markdown",
   "metadata": {
    "id": "vncDsAP0Gaoa"
   },
   "source": [
    "# **Project Name**    - Amazon Prime Analysis\n",
    "\n"
   ]
  },
  {
   "cell_type": "markdown",
   "metadata": {
    "id": "beRrZCGUAJYm"
   },
   "source": [
    "##### **Project Type**    - EDA\n",
    "##### **Contribution**    - Individual\n",
    "##### **Team Member 1 -** Sindhuja Kumari\n",
    "##### **Team Member 2 -**\n",
    "##### **Team Member 3 -**\n",
    "##### **Team Member 4 -**"
   ]
  },
  {
   "cell_type": "markdown",
   "metadata": {
    "id": "FJNUwmbgGyua"
   },
   "source": [
    "# **Project Summary -**"
   ]
  },
  {
   "cell_type": "markdown",
   "metadata": {
    "id": "F6v_1wHtG2nS"
   },
   "source": [
    "This project aims to analyze the content library of Amazon Prime Video to understand the trends, distribution, and quality of the available titles. The main objective is to provide insights that can help Amazon Prime improve its content strategy, enhance user engagement, and increase overall business growth.\n",
    "\n",
    "The dataset contains information about movies and TV shows available on the platform, including features such as genre, release year, runtime, age certification, ratings from IMDb and TMDb, popularity scores, production countries, and more. Before performing any analysis, I will focus on preparing the data by cleaning and transforming it into a usable format."
   ]
  },
  {
   "cell_type": "markdown",
   "metadata": {
    "id": "w6K7xa23Elo4"
   },
   "source": [
    "# **GitHub Link -**"
   ]
  },
  {
   "cell_type": "markdown",
   "metadata": {
    "id": "h1o69JH3Eqqn"
   },
   "source": [
    "https://github.com/sindhujak785/Amazon-Prime-Analysis-using-Python"
   ]
  },
  {
   "cell_type": "markdown",
   "metadata": {
    "id": "yQaldy8SH6Dl"
   },
   "source": [
    "# **Problem Statement**\n"
   ]
  },
  {
   "cell_type": "markdown",
   "metadata": {
    "id": "DpeJGUA3kjGy"
   },
   "source": [
    "Amazon Prime has a large content library with many movies and TV shows from different genres, countries, and years. But to grow better and keep users happy, we need to understand a few things clearly:\n",
    "\n",
    "What types of genres and categories are most common on the platform?\n",
    "\n",
    "How is content spread across different countries and regions?\n",
    "\n",
    "How has the content library changed or grown over the years?\n",
    "\n",
    "Which shows or movies are the highest-rated or most popular?\n",
    "\n",
    "What is the overall balance between movies and TV shows?\n",
    "\n",
    "Are there any patterns or relationships (correlations) between ratings, popularity, and other factors?\n",
    "\n",
    "By answering these questions through data analysis and visualizations, we can help Amazon Prime make smarter decisions about what kind of content to promote, produce, or add in the future.\n",
    "\n"
   ]
  },
  {
   "cell_type": "markdown",
   "metadata": {
    "id": "PH-0ReGfmX4f"
   },
   "source": [
    "#### **Define Your Business Objective?**"
   ]
  },
  {
   "cell_type": "markdown",
   "metadata": {
    "id": "PhDvGCAqmjP1"
   },
   "source": [
    "The goal of this project is to help Amazon Prime Video understand what kind of shows and movies people like the most. By looking at the data, we want to find out which genres (like drama, comedy, or action) are popular, which countries have more content, and what types of shows (movies or TV shows) people watch more. This will help Amazon Prime make better choices about what new shows or movies to add. If they add the right kinds of content, more people will watch and stay happy, which means more subscribers and more money for the company."
   ]
  },
  {
   "cell_type": "markdown",
   "metadata": {
    "id": "mDgbUHAGgjLW"
   },
   "source": [
    "# **General Guidelines** : -  "
   ]
  },
  {
   "cell_type": "markdown",
   "metadata": {
    "id": "ZrxVaUj-hHfC"
   },
   "source": [
    "1.   Well-structured, formatted, and commented code is required.\n",
    "2.   Exception Handling, Production Grade Code & Deployment Ready Code will be a plus. Those students will be awarded some additional credits.\n",
    "     \n",
    "     The additional credits will have advantages over other students during Star Student selection.\n",
    "       \n",
    "             [ Note: - Deployment Ready Code is defined as, the whole .ipynb notebook should be executable in one go\n",
    "                       without a single error logged. ]\n",
    "\n",
    "3.   Each and every logic should have proper comments.\n",
    "4. You may add as many number of charts you want. Make Sure for each and every chart the following format should be answered.\n",
    "        \n",
    "\n",
    "```\n",
    "# Chart visualization code\n",
    "```\n",
    "            \n",
    "\n",
    "*   Why did you pick the specific chart?\n",
    "*   What is/are the insight(s) found from the chart?\n",
    "* Will the gained insights help creating a positive business impact?\n",
    "Are there any insights that lead to negative growth? Justify with specific reason.\n",
    "\n",
    "5. You have to create at least 20 logical & meaningful charts having important insights.\n",
    "\n",
    "\n",
    "[ Hints : - Do the Vizualization in  a structured way while following \"UBM\" Rule.\n",
    "\n",
    "U - Univariate Analysis,\n",
    "\n",
    "B - Bivariate Analysis (Numerical - Categorical, Numerical - Numerical, Categorical - Categorical)\n",
    "\n",
    "M - Multivariate Analysis\n",
    " ]\n",
    "\n",
    "\n",
    "\n"
   ]
  },
  {
   "cell_type": "markdown",
   "metadata": {
    "id": "O_i_v8NEhb9l"
   },
   "source": [
    "# ***Let's Begin !***"
   ]
  },
  {
   "cell_type": "markdown",
   "metadata": {
    "id": "HhfV-JJviCcP"
   },
   "source": [
    "## ***1. Know Your Data***"
   ]
  },
  {
   "cell_type": "markdown",
   "metadata": {
    "id": "Y3lxredqlCYt"
   },
   "source": [
    "### Import Libraries"
   ]
  },
  {
   "cell_type": "code",
   "execution_count": 27,
   "metadata": {
    "id": "M8Vqi-pPk-HR"
   },
   "outputs": [],
   "source": [
    "import pandas as pd\n",
    "import numpy as np\n",
    "import seaborn as sns\n",
    "import matplotlib.pyplot as plt"
   ]
  },
  {
   "cell_type": "markdown",
   "metadata": {
    "id": "3RnN4peoiCZX"
   },
   "source": [
    "### Dataset Loading"
   ]
  },
  {
   "cell_type": "code",
   "execution_count": 28,
   "metadata": {
    "id": "4CkvbW_SlZ_R"
   },
   "outputs": [],
   "source": [
    "titles = pd.read_csv(r\"D:\\Labmentix\\titles.csv\\titles.csv\")"
   ]
  },
  {
   "cell_type": "code",
   "execution_count": 29,
   "metadata": {},
   "outputs": [],
   "source": [
    "credits = pd.read_csv(r\"D:\\Labmentix\\credits.csv\\credits.csv\")"
   ]
  },
  {
   "cell_type": "markdown",
   "metadata": {
    "id": "x71ZqKXriCWQ"
   },
   "source": [
    "### Dataset First View"
   ]
  },
  {
   "cell_type": "code",
   "execution_count": 4,
   "metadata": {
    "id": "LWNFOSvLl09H"
   },
   "outputs": [
    {
     "data": {
      "text/html": [
       "<div>\n",
       "<style scoped>\n",
       "    .dataframe tbody tr th:only-of-type {\n",
       "        vertical-align: middle;\n",
       "    }\n",
       "\n",
       "    .dataframe tbody tr th {\n",
       "        vertical-align: top;\n",
       "    }\n",
       "\n",
       "    .dataframe thead th {\n",
       "        text-align: right;\n",
       "    }\n",
       "</style>\n",
       "<table border=\"1\" class=\"dataframe\">\n",
       "  <thead>\n",
       "    <tr style=\"text-align: right;\">\n",
       "      <th></th>\n",
       "      <th>id</th>\n",
       "      <th>title</th>\n",
       "      <th>type</th>\n",
       "      <th>description</th>\n",
       "      <th>release_year</th>\n",
       "      <th>age_certification</th>\n",
       "      <th>runtime</th>\n",
       "      <th>genres</th>\n",
       "      <th>production_countries</th>\n",
       "      <th>seasons</th>\n",
       "      <th>imdb_id</th>\n",
       "      <th>imdb_score</th>\n",
       "      <th>imdb_votes</th>\n",
       "      <th>tmdb_popularity</th>\n",
       "      <th>tmdb_score</th>\n",
       "    </tr>\n",
       "  </thead>\n",
       "  <tbody>\n",
       "    <tr>\n",
       "      <th>0</th>\n",
       "      <td>ts20945</td>\n",
       "      <td>The Three Stooges</td>\n",
       "      <td>SHOW</td>\n",
       "      <td>The Three Stooges were an American vaudeville ...</td>\n",
       "      <td>1934</td>\n",
       "      <td>TV-PG</td>\n",
       "      <td>19</td>\n",
       "      <td>['comedy', 'family', 'animation', 'action', 'f...</td>\n",
       "      <td>['US']</td>\n",
       "      <td>26.0</td>\n",
       "      <td>tt0850645</td>\n",
       "      <td>8.6</td>\n",
       "      <td>1092.0</td>\n",
       "      <td>15.424</td>\n",
       "      <td>7.6</td>\n",
       "    </tr>\n",
       "    <tr>\n",
       "      <th>1</th>\n",
       "      <td>tm19248</td>\n",
       "      <td>The General</td>\n",
       "      <td>MOVIE</td>\n",
       "      <td>During America’s Civil War, Union spies steal ...</td>\n",
       "      <td>1926</td>\n",
       "      <td>NaN</td>\n",
       "      <td>78</td>\n",
       "      <td>['action', 'drama', 'war', 'western', 'comedy'...</td>\n",
       "      <td>['US']</td>\n",
       "      <td>NaN</td>\n",
       "      <td>tt0017925</td>\n",
       "      <td>8.2</td>\n",
       "      <td>89766.0</td>\n",
       "      <td>8.647</td>\n",
       "      <td>8.0</td>\n",
       "    </tr>\n",
       "    <tr>\n",
       "      <th>2</th>\n",
       "      <td>tm82253</td>\n",
       "      <td>The Best Years of Our Lives</td>\n",
       "      <td>MOVIE</td>\n",
       "      <td>It's the hope that sustains the spirit of ever...</td>\n",
       "      <td>1946</td>\n",
       "      <td>NaN</td>\n",
       "      <td>171</td>\n",
       "      <td>['romance', 'war', 'drama']</td>\n",
       "      <td>['US']</td>\n",
       "      <td>NaN</td>\n",
       "      <td>tt0036868</td>\n",
       "      <td>8.1</td>\n",
       "      <td>63026.0</td>\n",
       "      <td>8.435</td>\n",
       "      <td>7.8</td>\n",
       "    </tr>\n",
       "    <tr>\n",
       "      <th>3</th>\n",
       "      <td>tm83884</td>\n",
       "      <td>His Girl Friday</td>\n",
       "      <td>MOVIE</td>\n",
       "      <td>Hildy, the journalist former wife of newspaper...</td>\n",
       "      <td>1940</td>\n",
       "      <td>NaN</td>\n",
       "      <td>92</td>\n",
       "      <td>['comedy', 'drama', 'romance']</td>\n",
       "      <td>['US']</td>\n",
       "      <td>NaN</td>\n",
       "      <td>tt0032599</td>\n",
       "      <td>7.8</td>\n",
       "      <td>57835.0</td>\n",
       "      <td>11.270</td>\n",
       "      <td>7.4</td>\n",
       "    </tr>\n",
       "    <tr>\n",
       "      <th>4</th>\n",
       "      <td>tm56584</td>\n",
       "      <td>In a Lonely Place</td>\n",
       "      <td>MOVIE</td>\n",
       "      <td>An aspiring actress begins to suspect that her...</td>\n",
       "      <td>1950</td>\n",
       "      <td>NaN</td>\n",
       "      <td>94</td>\n",
       "      <td>['thriller', 'drama', 'romance']</td>\n",
       "      <td>['US']</td>\n",
       "      <td>NaN</td>\n",
       "      <td>tt0042593</td>\n",
       "      <td>7.9</td>\n",
       "      <td>30924.0</td>\n",
       "      <td>8.273</td>\n",
       "      <td>7.6</td>\n",
       "    </tr>\n",
       "    <tr>\n",
       "      <th>...</th>\n",
       "      <td>...</td>\n",
       "      <td>...</td>\n",
       "      <td>...</td>\n",
       "      <td>...</td>\n",
       "      <td>...</td>\n",
       "      <td>...</td>\n",
       "      <td>...</td>\n",
       "      <td>...</td>\n",
       "      <td>...</td>\n",
       "      <td>...</td>\n",
       "      <td>...</td>\n",
       "      <td>...</td>\n",
       "      <td>...</td>\n",
       "      <td>...</td>\n",
       "      <td>...</td>\n",
       "    </tr>\n",
       "    <tr>\n",
       "      <th>9866</th>\n",
       "      <td>tm510327</td>\n",
       "      <td>Lily Is Here</td>\n",
       "      <td>MOVIE</td>\n",
       "      <td>Dallas and heroin have one thing in common: Du...</td>\n",
       "      <td>2021</td>\n",
       "      <td>NaN</td>\n",
       "      <td>93</td>\n",
       "      <td>['drama']</td>\n",
       "      <td>['US']</td>\n",
       "      <td>NaN</td>\n",
       "      <td>tt7672388</td>\n",
       "      <td>5.3</td>\n",
       "      <td>20.0</td>\n",
       "      <td>1.406</td>\n",
       "      <td>NaN</td>\n",
       "    </tr>\n",
       "    <tr>\n",
       "      <th>9867</th>\n",
       "      <td>tm1079144</td>\n",
       "      <td>Jay Nog: Something from Nothing</td>\n",
       "      <td>MOVIE</td>\n",
       "      <td>Something From Nothing takes you on a stand-up...</td>\n",
       "      <td>2021</td>\n",
       "      <td>NaN</td>\n",
       "      <td>55</td>\n",
       "      <td>['comedy']</td>\n",
       "      <td>['US']</td>\n",
       "      <td>NaN</td>\n",
       "      <td>tt15041600</td>\n",
       "      <td>NaN</td>\n",
       "      <td>NaN</td>\n",
       "      <td>0.600</td>\n",
       "      <td>NaN</td>\n",
       "    </tr>\n",
       "    <tr>\n",
       "      <th>9868</th>\n",
       "      <td>tm847725</td>\n",
       "      <td>Chasing</td>\n",
       "      <td>MOVIE</td>\n",
       "      <td>A cop from Chennai sets out to nab a dreaded d...</td>\n",
       "      <td>2021</td>\n",
       "      <td>NaN</td>\n",
       "      <td>116</td>\n",
       "      <td>['crime']</td>\n",
       "      <td>['IN']</td>\n",
       "      <td>NaN</td>\n",
       "      <td>NaN</td>\n",
       "      <td>NaN</td>\n",
       "      <td>NaN</td>\n",
       "      <td>1.960</td>\n",
       "      <td>NaN</td>\n",
       "    </tr>\n",
       "    <tr>\n",
       "      <th>9869</th>\n",
       "      <td>tm1054116</td>\n",
       "      <td>Baikunth</td>\n",
       "      <td>MOVIE</td>\n",
       "      <td>This story is about prevalent caste problem, e...</td>\n",
       "      <td>2021</td>\n",
       "      <td>NaN</td>\n",
       "      <td>72</td>\n",
       "      <td>['family', 'drama']</td>\n",
       "      <td>[]</td>\n",
       "      <td>NaN</td>\n",
       "      <td>tt14331982</td>\n",
       "      <td>8.4</td>\n",
       "      <td>49.0</td>\n",
       "      <td>0.645</td>\n",
       "      <td>NaN</td>\n",
       "    </tr>\n",
       "    <tr>\n",
       "      <th>9870</th>\n",
       "      <td>ts275838</td>\n",
       "      <td>Waking Up Eighty</td>\n",
       "      <td>SHOW</td>\n",
       "      <td>Kara Stewart, 16, is fed up with just about ev...</td>\n",
       "      <td>2021</td>\n",
       "      <td>NaN</td>\n",
       "      <td>10</td>\n",
       "      <td>['drama']</td>\n",
       "      <td>[]</td>\n",
       "      <td>1.0</td>\n",
       "      <td>tt13542552</td>\n",
       "      <td>NaN</td>\n",
       "      <td>NaN</td>\n",
       "      <td>NaN</td>\n",
       "      <td>NaN</td>\n",
       "    </tr>\n",
       "  </tbody>\n",
       "</table>\n",
       "<p>9871 rows × 15 columns</p>\n",
       "</div>"
      ],
      "text/plain": [
       "             id                            title   type  \\\n",
       "0       ts20945                The Three Stooges   SHOW   \n",
       "1       tm19248                      The General  MOVIE   \n",
       "2       tm82253      The Best Years of Our Lives  MOVIE   \n",
       "3       tm83884                  His Girl Friday  MOVIE   \n",
       "4       tm56584                In a Lonely Place  MOVIE   \n",
       "...         ...                              ...    ...   \n",
       "9866   tm510327                     Lily Is Here  MOVIE   \n",
       "9867  tm1079144  Jay Nog: Something from Nothing  MOVIE   \n",
       "9868   tm847725                          Chasing  MOVIE   \n",
       "9869  tm1054116                         Baikunth  MOVIE   \n",
       "9870   ts275838                 Waking Up Eighty   SHOW   \n",
       "\n",
       "                                            description  release_year  \\\n",
       "0     The Three Stooges were an American vaudeville ...          1934   \n",
       "1     During America’s Civil War, Union spies steal ...          1926   \n",
       "2     It's the hope that sustains the spirit of ever...          1946   \n",
       "3     Hildy, the journalist former wife of newspaper...          1940   \n",
       "4     An aspiring actress begins to suspect that her...          1950   \n",
       "...                                                 ...           ...   \n",
       "9866  Dallas and heroin have one thing in common: Du...          2021   \n",
       "9867  Something From Nothing takes you on a stand-up...          2021   \n",
       "9868  A cop from Chennai sets out to nab a dreaded d...          2021   \n",
       "9869  This story is about prevalent caste problem, e...          2021   \n",
       "9870  Kara Stewart, 16, is fed up with just about ev...          2021   \n",
       "\n",
       "     age_certification  runtime  \\\n",
       "0                TV-PG       19   \n",
       "1                  NaN       78   \n",
       "2                  NaN      171   \n",
       "3                  NaN       92   \n",
       "4                  NaN       94   \n",
       "...                ...      ...   \n",
       "9866               NaN       93   \n",
       "9867               NaN       55   \n",
       "9868               NaN      116   \n",
       "9869               NaN       72   \n",
       "9870               NaN       10   \n",
       "\n",
       "                                                 genres production_countries  \\\n",
       "0     ['comedy', 'family', 'animation', 'action', 'f...               ['US']   \n",
       "1     ['action', 'drama', 'war', 'western', 'comedy'...               ['US']   \n",
       "2                           ['romance', 'war', 'drama']               ['US']   \n",
       "3                        ['comedy', 'drama', 'romance']               ['US']   \n",
       "4                      ['thriller', 'drama', 'romance']               ['US']   \n",
       "...                                                 ...                  ...   \n",
       "9866                                          ['drama']               ['US']   \n",
       "9867                                         ['comedy']               ['US']   \n",
       "9868                                          ['crime']               ['IN']   \n",
       "9869                                ['family', 'drama']                   []   \n",
       "9870                                          ['drama']                   []   \n",
       "\n",
       "      seasons     imdb_id  imdb_score  imdb_votes  tmdb_popularity  tmdb_score  \n",
       "0        26.0   tt0850645         8.6      1092.0           15.424         7.6  \n",
       "1         NaN   tt0017925         8.2     89766.0            8.647         8.0  \n",
       "2         NaN   tt0036868         8.1     63026.0            8.435         7.8  \n",
       "3         NaN   tt0032599         7.8     57835.0           11.270         7.4  \n",
       "4         NaN   tt0042593         7.9     30924.0            8.273         7.6  \n",
       "...       ...         ...         ...         ...              ...         ...  \n",
       "9866      NaN   tt7672388         5.3        20.0            1.406         NaN  \n",
       "9867      NaN  tt15041600         NaN         NaN            0.600         NaN  \n",
       "9868      NaN         NaN         NaN         NaN            1.960         NaN  \n",
       "9869      NaN  tt14331982         8.4        49.0            0.645         NaN  \n",
       "9870      1.0  tt13542552         NaN         NaN              NaN         NaN  \n",
       "\n",
       "[9871 rows x 15 columns]"
      ]
     },
     "execution_count": 4,
     "metadata": {},
     "output_type": "execute_result"
    }
   ],
   "source": [
    "# Dataset First Look\n",
    "titles"
   ]
  },
  {
   "cell_type": "code",
   "execution_count": 5,
   "metadata": {},
   "outputs": [
    {
     "data": {
      "text/html": [
       "<div>\n",
       "<style scoped>\n",
       "    .dataframe tbody tr th:only-of-type {\n",
       "        vertical-align: middle;\n",
       "    }\n",
       "\n",
       "    .dataframe tbody tr th {\n",
       "        vertical-align: top;\n",
       "    }\n",
       "\n",
       "    .dataframe thead th {\n",
       "        text-align: right;\n",
       "    }\n",
       "</style>\n",
       "<table border=\"1\" class=\"dataframe\">\n",
       "  <thead>\n",
       "    <tr style=\"text-align: right;\">\n",
       "      <th></th>\n",
       "      <th>person_id</th>\n",
       "      <th>id</th>\n",
       "      <th>name</th>\n",
       "      <th>character</th>\n",
       "      <th>role</th>\n",
       "    </tr>\n",
       "  </thead>\n",
       "  <tbody>\n",
       "    <tr>\n",
       "      <th>0</th>\n",
       "      <td>59401</td>\n",
       "      <td>ts20945</td>\n",
       "      <td>Joe Besser</td>\n",
       "      <td>Joe</td>\n",
       "      <td>ACTOR</td>\n",
       "    </tr>\n",
       "    <tr>\n",
       "      <th>1</th>\n",
       "      <td>31460</td>\n",
       "      <td>ts20945</td>\n",
       "      <td>Moe Howard</td>\n",
       "      <td>Moe</td>\n",
       "      <td>ACTOR</td>\n",
       "    </tr>\n",
       "    <tr>\n",
       "      <th>2</th>\n",
       "      <td>31461</td>\n",
       "      <td>ts20945</td>\n",
       "      <td>Larry Fine</td>\n",
       "      <td>Larry</td>\n",
       "      <td>ACTOR</td>\n",
       "    </tr>\n",
       "    <tr>\n",
       "      <th>3</th>\n",
       "      <td>21174</td>\n",
       "      <td>tm19248</td>\n",
       "      <td>Buster Keaton</td>\n",
       "      <td>Johnny Gray</td>\n",
       "      <td>ACTOR</td>\n",
       "    </tr>\n",
       "    <tr>\n",
       "      <th>4</th>\n",
       "      <td>28713</td>\n",
       "      <td>tm19248</td>\n",
       "      <td>Marion Mack</td>\n",
       "      <td>Annabelle Lee</td>\n",
       "      <td>ACTOR</td>\n",
       "    </tr>\n",
       "    <tr>\n",
       "      <th>...</th>\n",
       "      <td>...</td>\n",
       "      <td>...</td>\n",
       "      <td>...</td>\n",
       "      <td>...</td>\n",
       "      <td>...</td>\n",
       "    </tr>\n",
       "    <tr>\n",
       "      <th>124230</th>\n",
       "      <td>1938589</td>\n",
       "      <td>tm1054116</td>\n",
       "      <td>Sangam Shukla</td>\n",
       "      <td>Madhav</td>\n",
       "      <td>ACTOR</td>\n",
       "    </tr>\n",
       "    <tr>\n",
       "      <th>124231</th>\n",
       "      <td>1938565</td>\n",
       "      <td>tm1054116</td>\n",
       "      <td>Vijay Thakur</td>\n",
       "      <td>Sanjay Thakur</td>\n",
       "      <td>ACTOR</td>\n",
       "    </tr>\n",
       "    <tr>\n",
       "      <th>124232</th>\n",
       "      <td>728899</td>\n",
       "      <td>tm1054116</td>\n",
       "      <td>Vanya Wellens</td>\n",
       "      <td>Budhiya</td>\n",
       "      <td>ACTOR</td>\n",
       "    </tr>\n",
       "    <tr>\n",
       "      <th>124233</th>\n",
       "      <td>1938620</td>\n",
       "      <td>tm1054116</td>\n",
       "      <td>Vishwa Bhanu</td>\n",
       "      <td>Gissu</td>\n",
       "      <td>ACTOR</td>\n",
       "    </tr>\n",
       "    <tr>\n",
       "      <th>124234</th>\n",
       "      <td>1938620</td>\n",
       "      <td>tm1054116</td>\n",
       "      <td>Vishwa Bhanu</td>\n",
       "      <td>NaN</td>\n",
       "      <td>DIRECTOR</td>\n",
       "    </tr>\n",
       "  </tbody>\n",
       "</table>\n",
       "<p>124235 rows × 5 columns</p>\n",
       "</div>"
      ],
      "text/plain": [
       "        person_id         id           name      character      role\n",
       "0           59401    ts20945     Joe Besser            Joe     ACTOR\n",
       "1           31460    ts20945     Moe Howard            Moe     ACTOR\n",
       "2           31461    ts20945     Larry Fine          Larry     ACTOR\n",
       "3           21174    tm19248  Buster Keaton    Johnny Gray     ACTOR\n",
       "4           28713    tm19248    Marion Mack  Annabelle Lee     ACTOR\n",
       "...           ...        ...            ...            ...       ...\n",
       "124230    1938589  tm1054116  Sangam Shukla         Madhav     ACTOR\n",
       "124231    1938565  tm1054116   Vijay Thakur  Sanjay Thakur     ACTOR\n",
       "124232     728899  tm1054116  Vanya Wellens        Budhiya     ACTOR\n",
       "124233    1938620  tm1054116   Vishwa Bhanu          Gissu     ACTOR\n",
       "124234    1938620  tm1054116   Vishwa Bhanu            NaN  DIRECTOR\n",
       "\n",
       "[124235 rows x 5 columns]"
      ]
     },
     "execution_count": 5,
     "metadata": {},
     "output_type": "execute_result"
    }
   ],
   "source": [
    "credits"
   ]
  },
  {
   "cell_type": "markdown",
   "metadata": {
    "id": "7hBIi_osiCS2"
   },
   "source": [
    "### Dataset Rows & Columns count"
   ]
  },
  {
   "cell_type": "code",
   "execution_count": 146,
   "metadata": {
    "id": "Kllu7SJgmLij"
   },
   "outputs": [
    {
     "name": "stdout",
     "output_type": "stream",
     "text": [
      "Credits dataset - Rows: 124235\n",
      "Credits dataset - Columns: 5\n",
      "Titles dataset - Rows: 9871\n",
      "Titles dataset - Columns: 15\n"
     ]
    }
   ],
   "source": [
    "# For credits dataset\n",
    "print(\"Credits dataset - Rows:\", credits.shape[0])\n",
    "print(\"Credits dataset - Columns:\", credits.shape[1])\n",
    "\n",
    "# For titles dataset\n",
    "print(\"Titles dataset - Rows:\", titles.shape[0])\n",
    "print(\"Titles dataset - Columns:\", titles.shape[1]"
   ]
  },
  {
   "cell_type": "markdown",
   "metadata": {
    "id": "JlHwYmJAmNHm"
   },
   "source": [
    "### Dataset Information"
   ]
  },
  {
   "cell_type": "code",
   "execution_count": 147,
   "metadata": {
    "id": "e9hRXRi6meOf"
   },
   "outputs": [
    {
     "name": "stdout",
     "output_type": "stream",
     "text": [
      "<class 'pandas.core.frame.DataFrame'>\n",
      "RangeIndex: 124235 entries, 0 to 124234\n",
      "Data columns (total 5 columns):\n",
      " #   Column     Non-Null Count   Dtype \n",
      "---  ------     --------------   ----- \n",
      " 0   person_id  124235 non-null  int64 \n",
      " 1   id         124235 non-null  object\n",
      " 2   name       124235 non-null  object\n",
      " 3   character  107948 non-null  object\n",
      " 4   role       124235 non-null  object\n",
      "dtypes: int64(1), object(4)\n",
      "memory usage: 4.7+ MB\n"
     ]
    }
   ],
   "source": [
    "credits.info()"
   ]
  },
  {
   "cell_type": "code",
   "execution_count": 148,
   "metadata": {},
   "outputs": [
    {
     "name": "stdout",
     "output_type": "stream",
     "text": [
      "<class 'pandas.core.frame.DataFrame'>\n",
      "RangeIndex: 9871 entries, 0 to 9870\n",
      "Data columns (total 15 columns):\n",
      " #   Column                Non-Null Count  Dtype  \n",
      "---  ------                --------------  -----  \n",
      " 0   id                    9871 non-null   object \n",
      " 1   title                 9871 non-null   object \n",
      " 2   type                  9871 non-null   object \n",
      " 3   description           9752 non-null   object \n",
      " 4   release_year          9871 non-null   int64  \n",
      " 5   age_certification     3384 non-null   object \n",
      " 6   runtime               9871 non-null   int64  \n",
      " 7   genres                9871 non-null   object \n",
      " 8   production_countries  9871 non-null   object \n",
      " 9   seasons               1357 non-null   float64\n",
      " 10  imdb_id               9204 non-null   object \n",
      " 11  imdb_score            8850 non-null   float64\n",
      " 12  imdb_votes            8840 non-null   float64\n",
      " 13  tmdb_popularity       9324 non-null   float64\n",
      " 14  tmdb_score            7789 non-null   float64\n",
      "dtypes: float64(5), int64(2), object(8)\n",
      "memory usage: 1.1+ MB\n"
     ]
    }
   ],
   "source": [
    "titles.info()"
   ]
  },
  {
   "cell_type": "markdown",
   "metadata": {
    "id": "35m5QtbWiB9F"
   },
   "source": [
    "#### Duplicate Values"
   ]
  },
  {
   "cell_type": "code",
   "execution_count": 149,
   "metadata": {
    "id": "1sLdpKYkmox0"
   },
   "outputs": [
    {
     "name": "stdout",
     "output_type": "stream",
     "text": [
      "Duplicate rows in credits:  56\n",
      "Duplicate rows in titles:  3\n"
     ]
    }
   ],
   "source": [
    "print(\"Duplicate rows in credits: \",credits.duplicated().sum())\n",
    "print(\"Duplicate rows in titles: \",titles.duplicated().sum())"
   ]
  },
  {
   "cell_type": "markdown",
   "metadata": {
    "id": "PoPl-ycgm1ru"
   },
   "source": [
    "#### Missing Values/Null Values"
   ]
  },
  {
   "cell_type": "code",
   "execution_count": 150,
   "metadata": {
    "id": "GgHWkxvamxVg"
   },
   "outputs": [
    {
     "data": {
      "text/plain": [
       "person_id        0\n",
       "id               0\n",
       "name             0\n",
       "character    16287\n",
       "role             0\n",
       "dtype: int64"
      ]
     },
     "execution_count": 150,
     "metadata": {},
     "output_type": "execute_result"
    }
   ],
   "source": [
    "# for credits\n",
    "credits.isnull().sum()"
   ]
  },
  {
   "cell_type": "code",
   "execution_count": 151,
   "metadata": {},
   "outputs": [
    {
     "data": {
      "text/plain": [
       "id                         0\n",
       "title                      0\n",
       "type                       0\n",
       "description              119\n",
       "release_year               0\n",
       "age_certification       6487\n",
       "runtime                    0\n",
       "genres                     0\n",
       "production_countries       0\n",
       "seasons                 8514\n",
       "imdb_id                  667\n",
       "imdb_score              1021\n",
       "imdb_votes              1031\n",
       "tmdb_popularity          547\n",
       "tmdb_score              2082\n",
       "dtype: int64"
      ]
     },
     "execution_count": 151,
     "metadata": {},
     "output_type": "execute_result"
    }
   ],
   "source": [
    "# for titles\n",
    "titles.isnull().sum()"
   ]
  },
  {
   "cell_type": "code",
   "execution_count": 152,
   "metadata": {
    "id": "3q5wnI3om9sJ"
   },
   "outputs": [
    {
     "data": {
      "image/png": "[encoded data removed]",
      "text/plain": [
       "<Figure size 1000x500 with 1 Axes>"
      ]
     },
     "metadata": {},
     "output_type": "display_data"
    }
   ],
   "source": [
    "# Visualizing the missing values\n",
    "\n",
    "# Titles dataset missing values count\n",
    "missing_titles = titles.isnull().sum()\n",
    "missing_titles = missing_titles[missing_titles > 0]  # Only columns with missing values\n",
    "\n",
    "plt.figure(figsize=(10, 5))\n",
    "plt.bar(missing_titles.index, missing_titles.values, color='orange')\n",
    "plt.title(\"Missing Values in Titles Dataset\")\n",
    "plt.xlabel(\"Columns\")\n",
    "plt.ylabel(\"Number of Missing Values\")\n",
    "plt.xticks(rotation=45)\n",
    "plt.tight_layout()\n",
    "plt.show()\n"
   ]
  },
  {
   "cell_type": "code",
   "execution_count": 153,
   "metadata": {},
   "outputs": [
    {
     "data": {
      "image/png": "[encoded data removed]",
      "text/plain": [
       "<Figure size 600x400 with 1 Axes>"
      ]
     },
     "metadata": {},
     "output_type": "display_data"
    }
   ],
   "source": [
    "# Credits dataset missing values count\n",
    "missing_credits = credits.isnull().sum()\n",
    "missing_credits = missing_credits[missing_credits > 0]\n",
    "\n",
    "plt.figure(figsize=(6, 4))\n",
    "plt.bar(missing_credits.index, missing_credits.values, color='skyblue')\n",
    "plt.title(\"Missing Values in Credits Dataset\")\n",
    "plt.xlabel(\"Columns\")\n",
    "plt.ylabel(\"Number of Missing Values\")\n",
    "plt.xticks(rotation=45)\n",
    "plt.tight_layout()\n",
    "plt.show()\n"
   ]
  },
  {
   "cell_type": "markdown",
   "metadata": {
    "id": "H0kj-8xxnORC"
   },
   "source": [
    "### What did you know about your dataset?"
   ]
  },
  {
   "cell_type": "markdown",
   "metadata": {
    "id": "gfoNAAC-nUe_"
   },
   "source": [
    "The credits dataset has 124,235 rows and 5 columns. It mostly contains information about people involved in the shows and movies.\n",
    "\n",
    "The titles dataset has 9,871 rows and 15 columns. It has details like ratings, genres, and release years.\n",
    "\n",
    "In the credits data, the character column is missing information in about 16,000 rows.\n",
    "\n",
    "In the titles data, some columns like age certification(6487 missing) and seasons(8514 missing) have a lot of missing values.\n",
    "\n",
    "There are also some duplicate rows — 56 in credits and 3 in titles.\n",
    "\n",
    "The data includes both text and numbers, which is good for analyzing content and ratings.\n",
    "\n",
    "Because of missing data and duplicates, we need to clean the data before doing any deep analysis.\n",
    "\n",
    "Overall, these datasets have useful information about Amazon Prime’s shows, the people involved, and their ratings."
   ]
  },
  {
   "cell_type": "markdown",
   "metadata": {
    "id": "nA9Y7ga8ng1Z"
   },
   "source": [
    "## ***2. Understanding Your Variables***"
   ]
  },
  {
   "cell_type": "code",
   "execution_count": 154,
   "metadata": {
    "id": "j7xfkqrt5Ag5"
   },
   "outputs": [
    {
     "data": {
      "text/plain": [
       "Index(['person_id', 'id', 'name', 'character', 'role'], dtype='object')"
      ]
     },
     "execution_count": 154,
     "metadata": {},
     "output_type": "execute_result"
    }
   ],
   "source": [
    "# Dataset Columns\n",
    "credits.columns\n"
   ]
  },
  {
   "cell_type": "code",
   "execution_count": 16,
   "metadata": {},
   "outputs": [
    {
     "data": {
      "text/plain": [
       "Index(['id', 'title', 'type', 'description', 'release_year',\n",
       "       'age_certification', 'runtime', 'genres', 'production_countries',\n",
       "       'seasons', 'imdb_id', 'imdb_score', 'imdb_votes', 'tmdb_popularity',\n",
       "       'tmdb_score'],\n",
       "      dtype='object')"
      ]
     },
     "execution_count": 16,
     "metadata": {},
     "output_type": "execute_result"
    }
   ],
   "source": [
    "titles.columns"
   ]
  },
  {
   "cell_type": "code",
   "execution_count": 155,
   "metadata": {
    "id": "DnOaZdaE5Q5t"
   },
   "outputs": [
    {
     "data": {
      "text/html": [
       "<div>\n",
       "<style scoped>\n",
       "    .dataframe tbody tr th:only-of-type {\n",
       "        vertical-align: middle;\n",
       "    }\n",
       "\n",
       "    .dataframe tbody tr th {\n",
       "        vertical-align: top;\n",
       "    }\n",
       "\n",
       "    .dataframe thead th {\n",
       "        text-align: right;\n",
       "    }\n",
       "</style>\n",
       "<table border=\"1\" class=\"dataframe\">\n",
       "  <thead>\n",
       "    <tr style=\"text-align: right;\">\n",
       "      <th></th>\n",
       "      <th>person_id</th>\n",
       "    </tr>\n",
       "  </thead>\n",
       "  <tbody>\n",
       "    <tr>\n",
       "      <th>count</th>\n",
       "      <td>1.242350e+05</td>\n",
       "    </tr>\n",
       "    <tr>\n",
       "      <th>mean</th>\n",
       "      <td>4.064737e+05</td>\n",
       "    </tr>\n",
       "    <tr>\n",
       "      <th>std</th>\n",
       "      <td>5.616296e+05</td>\n",
       "    </tr>\n",
       "    <tr>\n",
       "      <th>min</th>\n",
       "      <td>1.000000e+00</td>\n",
       "    </tr>\n",
       "    <tr>\n",
       "      <th>25%</th>\n",
       "      <td>3.899200e+04</td>\n",
       "    </tr>\n",
       "    <tr>\n",
       "      <th>50%</th>\n",
       "      <td>1.339490e+05</td>\n",
       "    </tr>\n",
       "    <tr>\n",
       "      <th>75%</th>\n",
       "      <td>5.712560e+05</td>\n",
       "    </tr>\n",
       "    <tr>\n",
       "      <th>max</th>\n",
       "      <td>2.371153e+06</td>\n",
       "    </tr>\n",
       "  </tbody>\n",
       "</table>\n",
       "</div>"
      ],
      "text/plain": [
       "          person_id\n",
       "count  1.242350e+05\n",
       "mean   4.064737e+05\n",
       "std    5.616296e+05\n",
       "min    1.000000e+00\n",
       "25%    3.899200e+04\n",
       "50%    1.339490e+05\n",
       "75%    5.712560e+05\n",
       "max    2.371153e+06"
      ]
     },
     "execution_count": 155,
     "metadata": {},
     "output_type": "execute_result"
    }
   ],
   "source": [
    "# Dataset Describe\n",
    "credits.describe()"
   ]
  },
  {
   "cell_type": "code",
   "execution_count": 22,
   "metadata": {},
   "outputs": [
    {
     "data": {
      "text/html": [
       "<div>\n",
       "<style scoped>\n",
       "    .dataframe tbody tr th:only-of-type {\n",
       "        vertical-align: middle;\n",
       "    }\n",
       "\n",
       "    .dataframe tbody tr th {\n",
       "        vertical-align: top;\n",
       "    }\n",
       "\n",
       "    .dataframe thead th {\n",
       "        text-align: right;\n",
       "    }\n",
       "</style>\n",
       "<table border=\"1\" class=\"dataframe\">\n",
       "  <thead>\n",
       "    <tr style=\"text-align: right;\">\n",
       "      <th></th>\n",
       "      <th>release_year</th>\n",
       "      <th>runtime</th>\n",
       "      <th>seasons</th>\n",
       "      <th>imdb_score</th>\n",
       "      <th>imdb_votes</th>\n",
       "      <th>tmdb_popularity</th>\n",
       "      <th>tmdb_score</th>\n",
       "    </tr>\n",
       "  </thead>\n",
       "  <tbody>\n",
       "    <tr>\n",
       "      <th>count</th>\n",
       "      <td>9871.000000</td>\n",
       "      <td>9871.000000</td>\n",
       "      <td>1357.000000</td>\n",
       "      <td>8850.000000</td>\n",
       "      <td>8.840000e+03</td>\n",
       "      <td>9324.000000</td>\n",
       "      <td>7789.000000</td>\n",
       "    </tr>\n",
       "    <tr>\n",
       "      <th>mean</th>\n",
       "      <td>2001.327221</td>\n",
       "      <td>85.973052</td>\n",
       "      <td>2.791452</td>\n",
       "      <td>5.976395</td>\n",
       "      <td>8.533614e+03</td>\n",
       "      <td>6.910204</td>\n",
       "      <td>5.984247</td>\n",
       "    </tr>\n",
       "    <tr>\n",
       "      <th>std</th>\n",
       "      <td>25.810071</td>\n",
       "      <td>33.512466</td>\n",
       "      <td>4.148958</td>\n",
       "      <td>1.343842</td>\n",
       "      <td>4.592015e+04</td>\n",
       "      <td>30.004098</td>\n",
       "      <td>1.517986</td>\n",
       "    </tr>\n",
       "    <tr>\n",
       "      <th>min</th>\n",
       "      <td>1912.000000</td>\n",
       "      <td>1.000000</td>\n",
       "      <td>1.000000</td>\n",
       "      <td>1.100000</td>\n",
       "      <td>5.000000e+00</td>\n",
       "      <td>0.000011</td>\n",
       "      <td>0.800000</td>\n",
       "    </tr>\n",
       "    <tr>\n",
       "      <th>25%</th>\n",
       "      <td>1995.500000</td>\n",
       "      <td>65.000000</td>\n",
       "      <td>1.000000</td>\n",
       "      <td>5.100000</td>\n",
       "      <td>1.170000e+02</td>\n",
       "      <td>1.232000</td>\n",
       "      <td>5.100000</td>\n",
       "    </tr>\n",
       "    <tr>\n",
       "      <th>50%</th>\n",
       "      <td>2014.000000</td>\n",
       "      <td>89.000000</td>\n",
       "      <td>1.000000</td>\n",
       "      <td>6.100000</td>\n",
       "      <td>4.625000e+02</td>\n",
       "      <td>2.536000</td>\n",
       "      <td>6.000000</td>\n",
       "    </tr>\n",
       "    <tr>\n",
       "      <th>75%</th>\n",
       "      <td>2018.000000</td>\n",
       "      <td>102.000000</td>\n",
       "      <td>3.000000</td>\n",
       "      <td>6.900000</td>\n",
       "      <td>2.236250e+03</td>\n",
       "      <td>5.634000</td>\n",
       "      <td>6.900000</td>\n",
       "    </tr>\n",
       "    <tr>\n",
       "      <th>max</th>\n",
       "      <td>2022.000000</td>\n",
       "      <td>549.000000</td>\n",
       "      <td>51.000000</td>\n",
       "      <td>9.900000</td>\n",
       "      <td>1.133692e+06</td>\n",
       "      <td>1437.906000</td>\n",
       "      <td>10.000000</td>\n",
       "    </tr>\n",
       "  </tbody>\n",
       "</table>\n",
       "</div>"
      ],
      "text/plain": [
       "       release_year      runtime      seasons   imdb_score    imdb_votes  \\\n",
       "count   9871.000000  9871.000000  1357.000000  8850.000000  8.840000e+03   \n",
       "mean    2001.327221    85.973052     2.791452     5.976395  8.533614e+03   \n",
       "std       25.810071    33.512466     4.148958     1.343842  4.592015e+04   \n",
       "min     1912.000000     1.000000     1.000000     1.100000  5.000000e+00   \n",
       "25%     1995.500000    65.000000     1.000000     5.100000  1.170000e+02   \n",
       "50%     2014.000000    89.000000     1.000000     6.100000  4.625000e+02   \n",
       "75%     2018.000000   102.000000     3.000000     6.900000  2.236250e+03   \n",
       "max     2022.000000   549.000000    51.000000     9.900000  1.133692e+06   \n",
       "\n",
       "       tmdb_popularity   tmdb_score  \n",
       "count      9324.000000  7789.000000  \n",
       "mean          6.910204     5.984247  \n",
       "std          30.004098     1.517986  \n",
       "min           0.000011     0.800000  \n",
       "25%           1.232000     5.100000  \n",
       "50%           2.536000     6.000000  \n",
       "75%           5.634000     6.900000  \n",
       "max        1437.906000    10.000000  "
      ]
     },
     "execution_count": 22,
     "metadata": {},
     "output_type": "execute_result"
    }
   ],
   "source": [
    "titles.describe()"
   ]
  },
  {
   "cell_type": "markdown",
   "metadata": {
    "id": "PBTbrJXOngz2"
   },
   "source": [
    "### Variables Description"
   ]
  },
  {
   "cell_type": "markdown",
   "metadata": {
    "id": "aJV4KIxSnxay"
   },
   "source": [
    "The dataset has two parts. One is about movies and shows (called \"titles\"), and the other is about people who worked on them (called \"credits\"). In the titles part, we get to know things like the name of the show or movie, what type it is (movie or show), when it came out, how long it is, what country it was made in, and how people rated it. Most movies are about 86 minutes long and were released between 1995 and 2022. Ratings from IMDb are usually around 6 out of 10. Some titles are very popular and got lots of votes. The credits part tells us who worked on each title, like actors, directors, etc. Each person has a special ID, and their role is also written. But in many rows, the character name is missing. These details help us understand the content and the people behind each title in a simple way."
   ]
  },
  {
   "cell_type": "markdown",
   "metadata": {
    "id": "u3PMJOP6ngxN"
   },
   "source": [
    "### Check Unique Values for each variable."
   ]
  },
  {
   "cell_type": "code",
   "execution_count": 23,
   "metadata": {
    "id": "zms12Yq5n-jE"
   },
   "outputs": [
    {
     "data": {
      "text/plain": [
       "person_id    80508\n",
       "id            8861\n",
       "name         79758\n",
       "character    71097\n",
       "role             2\n",
       "dtype: int64"
      ]
     },
     "execution_count": 23,
     "metadata": {},
     "output_type": "execute_result"
    }
   ],
   "source": [
    "credits.nunique()"
   ]
  },
  {
   "cell_type": "code",
   "execution_count": 24,
   "metadata": {},
   "outputs": [
    {
     "data": {
      "text/plain": [
       "id                      9868\n",
       "title                   9737\n",
       "type                       2\n",
       "description             9734\n",
       "release_year             110\n",
       "age_certification         11\n",
       "runtime                  207\n",
       "genres                  2028\n",
       "production_countries     497\n",
       "seasons                   32\n",
       "imdb_id                 9201\n",
       "imdb_score                86\n",
       "imdb_votes              3650\n",
       "tmdb_popularity         5325\n",
       "tmdb_score                89\n",
       "dtype: int64"
      ]
     },
     "execution_count": 24,
     "metadata": {},
     "output_type": "execute_result"
    }
   ],
   "source": [
    "titles.nunique()"
   ]
  },
  {
   "cell_type": "markdown",
   "metadata": {
    "id": "dauF4eBmngu3"
   },
   "source": [
    "## 3. ***Data Wrangling***"
   ]
  },
  {
   "cell_type": "markdown",
   "metadata": {
    "id": "bKJF3rekwFvQ"
   },
   "source": [
    "### Data Wrangling Code"
   ]
  },
  {
   "cell_type": "code",
   "execution_count": 30,
   "metadata": {
    "id": "wk-9a2fpoLcV"
   },
   "outputs": [],
   "source": [
    "# setting season for movies = 0 \n",
    "titles.loc[titles['type'] == 'MOVIE','seasons']=0"
   ]
  },
  {
   "cell_type": "code",
   "execution_count": 31,
   "metadata": {},
   "outputs": [],
   "source": [
    "# replacing missing values of season for TV shows with 1 and setting datatype to integer\n",
    "titles['seasons']= titles['seasons'].fillna(1)\n",
    "titles['seasons']=titles['seasons'].astype(int)"
   ]
  },
  {
   "cell_type": "code",
   "execution_count": 32,
   "metadata": {},
   "outputs": [],
   "source": [
    "# fill age_certification missing values with \"not rated\"\n",
    "titles['age_certification']=titles['age_certification'].fillna('Not Rated')"
   ]
  },
  {
   "cell_type": "code",
   "execution_count": 33,
   "metadata": {},
   "outputs": [],
   "source": [
    "# fill description missing values with 'No description'\n",
    "titles['description']=titles['description'].fillna('No description')"
   ]
  },
  {
   "cell_type": "code",
   "execution_count": 34,
   "metadata": {},
   "outputs": [],
   "source": [
    "# replacing imdb_score missing values with median with respect to movie and show type\n",
    "movie_median = titles.loc[titles['type'] == 'MOVIE', 'imdb_score'].median()\n",
    "titles.loc[(titles['type'] == 'MOVIE') & (titles['imdb_score'].isna()), 'imdb_score'] = movie_median\n",
    "\n",
    "show_median = titles.loc[titles['type'] == 'SHOW', 'imdb_score'].median()\n",
    "titles.loc[(titles['type'] == 'SHOW') & (titles['imdb_score'].isna()), 'imdb_score'] = show_median\n"
   ]
  },
  {
   "cell_type": "code",
   "execution_count": 35,
   "metadata": {},
   "outputs": [],
   "source": [
    "# replacing imdb_votes missing values with median with respect to movie and show type\n",
    "movies_imdb_votes = titles.loc[titles['type'] == 'MOVIE', 'imdb_votes'].median()\n",
    "titles.loc[(titles['type'] == 'MOVIE') & (titles['imdb_votes'].isna()), 'imdb_votes'] = movies_imdb_votes\n",
    "\n",
    "shows_imdb_votes = titles.loc[titles['type'] == 'SHOW', 'imdb_votes'].median()\n",
    "titles.loc[(titles['type'] == 'SHOW') & (titles['imdb_votes'].isna()), 'imdb_votes'] = shows_imdb_votes"
   ]
  },
  {
   "cell_type": "code",
   "execution_count": 36,
   "metadata": {},
   "outputs": [],
   "source": [
    "# replacing tmbd_popualrity missing values with median with respect to movie and show type\n",
    "movies_tmdb_popularity = titles.loc[titles['type'] == 'MOVIE', 'tmdb_popularity'].median()\n",
    "titles.loc[(titles['type'] == 'MOVIE') & (titles['tmdb_popularity'].isna()), 'tmdb_popularity'] = movies_tmdb_popularity\n",
    "\n",
    "shows_tmdb_popularity = titles.loc[titles['type'] == 'SHOW', 'tmdb_popularity'].median()\n",
    "titles.loc[(titles['type'] == 'SHOW') & (titles['tmdb_popularity'].isna()), 'tmdb_popularity'] = shows_tmdb_popularity\n"
   ]
  },
  {
   "cell_type": "code",
   "execution_count": 37,
   "metadata": {},
   "outputs": [],
   "source": [
    "# replacing tmbd_score missing values with median with respect to movie and show type\n",
    "movies_tmdb_score = titles.loc[titles['type'] == 'MOVIE', 'tmdb_score'].median()\n",
    "titles.loc[(titles['type'] == 'MOVIE') & (titles['tmdb_score'].isna()), 'tmdb_score'] = movies_tmdb_score\n",
    "\n",
    "shows_tmdb_score = titles.loc[titles['type'] == 'SHOW', 'tmdb_score'].median()\n",
    "titles.loc[(titles['type'] == 'SHOW') & (titles['tmdb_score'].isna()), 'tmdb_score'] = shows_tmdb_score\n"
   ]
  },
  {
   "cell_type": "code",
   "execution_count": 38,
   "metadata": {
    "scrolled": true
   },
   "outputs": [
    {
     "data": {
      "text/html": [
       "<div>\n",
       "<style scoped>\n",
       "    .dataframe tbody tr th:only-of-type {\n",
       "        vertical-align: middle;\n",
       "    }\n",
       "\n",
       "    .dataframe tbody tr th {\n",
       "        vertical-align: top;\n",
       "    }\n",
       "\n",
       "    .dataframe thead th {\n",
       "        text-align: right;\n",
       "    }\n",
       "</style>\n",
       "<table border=\"1\" class=\"dataframe\">\n",
       "  <thead>\n",
       "    <tr style=\"text-align: right;\">\n",
       "      <th></th>\n",
       "      <th>id</th>\n",
       "      <th>title</th>\n",
       "      <th>type</th>\n",
       "      <th>description</th>\n",
       "      <th>release_year</th>\n",
       "      <th>age_certification</th>\n",
       "      <th>runtime</th>\n",
       "      <th>genres</th>\n",
       "      <th>production_country</th>\n",
       "      <th>seasons</th>\n",
       "      <th>imdb_id</th>\n",
       "      <th>imdb_score</th>\n",
       "      <th>imdb_votes</th>\n",
       "      <th>tmdb_popularity</th>\n",
       "      <th>tmdb_score</th>\n",
       "    </tr>\n",
       "  </thead>\n",
       "  <tbody>\n",
       "    <tr>\n",
       "      <th>0</th>\n",
       "      <td>ts20945</td>\n",
       "      <td>The Three Stooges</td>\n",
       "      <td>SHOW</td>\n",
       "      <td>The Three Stooges were an American vaudeville ...</td>\n",
       "      <td>1934</td>\n",
       "      <td>TV-PG</td>\n",
       "      <td>19</td>\n",
       "      <td>['comedy', 'family', 'animation', 'action', 'f...</td>\n",
       "      <td>US</td>\n",
       "      <td>26</td>\n",
       "      <td>tt0850645</td>\n",
       "      <td>8.6</td>\n",
       "      <td>1092.0</td>\n",
       "      <td>15.424</td>\n",
       "      <td>7.6</td>\n",
       "    </tr>\n",
       "    <tr>\n",
       "      <th>1</th>\n",
       "      <td>tm19248</td>\n",
       "      <td>The General</td>\n",
       "      <td>MOVIE</td>\n",
       "      <td>During America’s Civil War, Union spies steal ...</td>\n",
       "      <td>1926</td>\n",
       "      <td>Not Rated</td>\n",
       "      <td>78</td>\n",
       "      <td>['action', 'drama', 'war', 'western', 'comedy'...</td>\n",
       "      <td>US</td>\n",
       "      <td>0</td>\n",
       "      <td>tt0017925</td>\n",
       "      <td>8.2</td>\n",
       "      <td>89766.0</td>\n",
       "      <td>8.647</td>\n",
       "      <td>8.0</td>\n",
       "    </tr>\n",
       "    <tr>\n",
       "      <th>2</th>\n",
       "      <td>tm82253</td>\n",
       "      <td>The Best Years of Our Lives</td>\n",
       "      <td>MOVIE</td>\n",
       "      <td>It's the hope that sustains the spirit of ever...</td>\n",
       "      <td>1946</td>\n",
       "      <td>Not Rated</td>\n",
       "      <td>171</td>\n",
       "      <td>['romance', 'war', 'drama']</td>\n",
       "      <td>US</td>\n",
       "      <td>0</td>\n",
       "      <td>tt0036868</td>\n",
       "      <td>8.1</td>\n",
       "      <td>63026.0</td>\n",
       "      <td>8.435</td>\n",
       "      <td>7.8</td>\n",
       "    </tr>\n",
       "    <tr>\n",
       "      <th>3</th>\n",
       "      <td>tm83884</td>\n",
       "      <td>His Girl Friday</td>\n",
       "      <td>MOVIE</td>\n",
       "      <td>Hildy, the journalist former wife of newspaper...</td>\n",
       "      <td>1940</td>\n",
       "      <td>Not Rated</td>\n",
       "      <td>92</td>\n",
       "      <td>['comedy', 'drama', 'romance']</td>\n",
       "      <td>US</td>\n",
       "      <td>0</td>\n",
       "      <td>tt0032599</td>\n",
       "      <td>7.8</td>\n",
       "      <td>57835.0</td>\n",
       "      <td>11.270</td>\n",
       "      <td>7.4</td>\n",
       "    </tr>\n",
       "    <tr>\n",
       "      <th>4</th>\n",
       "      <td>tm56584</td>\n",
       "      <td>In a Lonely Place</td>\n",
       "      <td>MOVIE</td>\n",
       "      <td>An aspiring actress begins to suspect that her...</td>\n",
       "      <td>1950</td>\n",
       "      <td>Not Rated</td>\n",
       "      <td>94</td>\n",
       "      <td>['thriller', 'drama', 'romance']</td>\n",
       "      <td>US</td>\n",
       "      <td>0</td>\n",
       "      <td>tt0042593</td>\n",
       "      <td>7.9</td>\n",
       "      <td>30924.0</td>\n",
       "      <td>8.273</td>\n",
       "      <td>7.6</td>\n",
       "    </tr>\n",
       "    <tr>\n",
       "      <th>...</th>\n",
       "      <td>...</td>\n",
       "      <td>...</td>\n",
       "      <td>...</td>\n",
       "      <td>...</td>\n",
       "      <td>...</td>\n",
       "      <td>...</td>\n",
       "      <td>...</td>\n",
       "      <td>...</td>\n",
       "      <td>...</td>\n",
       "      <td>...</td>\n",
       "      <td>...</td>\n",
       "      <td>...</td>\n",
       "      <td>...</td>\n",
       "      <td>...</td>\n",
       "      <td>...</td>\n",
       "    </tr>\n",
       "    <tr>\n",
       "      <th>11060</th>\n",
       "      <td>ts273173</td>\n",
       "      <td>Exquisite Wolf Heart</td>\n",
       "      <td>SHOW</td>\n",
       "      <td>A friendship born out of conflict marks the st...</td>\n",
       "      <td>2021</td>\n",
       "      <td>Not Rated</td>\n",
       "      <td>46</td>\n",
       "      <td>['drama']</td>\n",
       "      <td>CN</td>\n",
       "      <td>1</td>\n",
       "      <td>NaN</td>\n",
       "      <td>7.3</td>\n",
       "      <td>480.5</td>\n",
       "      <td>12.879</td>\n",
       "      <td>6.0</td>\n",
       "    </tr>\n",
       "    <tr>\n",
       "      <th>11064</th>\n",
       "      <td>tm1078263</td>\n",
       "      <td>Good Boys for Life</td>\n",
       "      <td>MOVIE</td>\n",
       "      <td>Toddrick Frank, a hustler, living his life unt...</td>\n",
       "      <td>2021</td>\n",
       "      <td>Not Rated</td>\n",
       "      <td>73</td>\n",
       "      <td>['comedy', 'drama']</td>\n",
       "      <td>US</td>\n",
       "      <td>0</td>\n",
       "      <td>tt15000128</td>\n",
       "      <td>3.9</td>\n",
       "      <td>50.0</td>\n",
       "      <td>2.076</td>\n",
       "      <td>6.0</td>\n",
       "    </tr>\n",
       "    <tr>\n",
       "      <th>11067</th>\n",
       "      <td>tm510327</td>\n",
       "      <td>Lily Is Here</td>\n",
       "      <td>MOVIE</td>\n",
       "      <td>Dallas and heroin have one thing in common: Du...</td>\n",
       "      <td>2021</td>\n",
       "      <td>Not Rated</td>\n",
       "      <td>93</td>\n",
       "      <td>['drama']</td>\n",
       "      <td>US</td>\n",
       "      <td>0</td>\n",
       "      <td>tt7672388</td>\n",
       "      <td>5.3</td>\n",
       "      <td>20.0</td>\n",
       "      <td>1.406</td>\n",
       "      <td>6.0</td>\n",
       "    </tr>\n",
       "    <tr>\n",
       "      <th>11068</th>\n",
       "      <td>tm1079144</td>\n",
       "      <td>Jay Nog: Something from Nothing</td>\n",
       "      <td>MOVIE</td>\n",
       "      <td>Something From Nothing takes you on a stand-up...</td>\n",
       "      <td>2021</td>\n",
       "      <td>Not Rated</td>\n",
       "      <td>55</td>\n",
       "      <td>['comedy']</td>\n",
       "      <td>US</td>\n",
       "      <td>0</td>\n",
       "      <td>tt15041600</td>\n",
       "      <td>5.9</td>\n",
       "      <td>460.0</td>\n",
       "      <td>0.600</td>\n",
       "      <td>6.0</td>\n",
       "    </tr>\n",
       "    <tr>\n",
       "      <th>11069</th>\n",
       "      <td>tm847725</td>\n",
       "      <td>Chasing</td>\n",
       "      <td>MOVIE</td>\n",
       "      <td>A cop from Chennai sets out to nab a dreaded d...</td>\n",
       "      <td>2021</td>\n",
       "      <td>Not Rated</td>\n",
       "      <td>116</td>\n",
       "      <td>['crime']</td>\n",
       "      <td>IN</td>\n",
       "      <td>0</td>\n",
       "      <td>NaN</td>\n",
       "      <td>5.9</td>\n",
       "      <td>460.0</td>\n",
       "      <td>1.960</td>\n",
       "      <td>6.0</td>\n",
       "    </tr>\n",
       "  </tbody>\n",
       "</table>\n",
       "<p>10249 rows × 15 columns</p>\n",
       "</div>"
      ],
      "text/plain": [
       "              id                            title   type  \\\n",
       "0        ts20945                The Three Stooges   SHOW   \n",
       "1        tm19248                      The General  MOVIE   \n",
       "2        tm82253      The Best Years of Our Lives  MOVIE   \n",
       "3        tm83884                  His Girl Friday  MOVIE   \n",
       "4        tm56584                In a Lonely Place  MOVIE   \n",
       "...          ...                              ...    ...   \n",
       "11060   ts273173             Exquisite Wolf Heart   SHOW   \n",
       "11064  tm1078263               Good Boys for Life  MOVIE   \n",
       "11067   tm510327                     Lily Is Here  MOVIE   \n",
       "11068  tm1079144  Jay Nog: Something from Nothing  MOVIE   \n",
       "11069   tm847725                          Chasing  MOVIE   \n",
       "\n",
       "                                             description  release_year  \\\n",
       "0      The Three Stooges were an American vaudeville ...          1934   \n",
       "1      During America’s Civil War, Union spies steal ...          1926   \n",
       "2      It's the hope that sustains the spirit of ever...          1946   \n",
       "3      Hildy, the journalist former wife of newspaper...          1940   \n",
       "4      An aspiring actress begins to suspect that her...          1950   \n",
       "...                                                  ...           ...   \n",
       "11060  A friendship born out of conflict marks the st...          2021   \n",
       "11064  Toddrick Frank, a hustler, living his life unt...          2021   \n",
       "11067  Dallas and heroin have one thing in common: Du...          2021   \n",
       "11068  Something From Nothing takes you on a stand-up...          2021   \n",
       "11069  A cop from Chennai sets out to nab a dreaded d...          2021   \n",
       "\n",
       "      age_certification  runtime  \\\n",
       "0                 TV-PG       19   \n",
       "1             Not Rated       78   \n",
       "2             Not Rated      171   \n",
       "3             Not Rated       92   \n",
       "4             Not Rated       94   \n",
       "...                 ...      ...   \n",
       "11060         Not Rated       46   \n",
       "11064         Not Rated       73   \n",
       "11067         Not Rated       93   \n",
       "11068         Not Rated       55   \n",
       "11069         Not Rated      116   \n",
       "\n",
       "                                                  genres production_country  \\\n",
       "0      ['comedy', 'family', 'animation', 'action', 'f...                 US   \n",
       "1      ['action', 'drama', 'war', 'western', 'comedy'...                 US   \n",
       "2                            ['romance', 'war', 'drama']                 US   \n",
       "3                         ['comedy', 'drama', 'romance']                 US   \n",
       "4                       ['thriller', 'drama', 'romance']                 US   \n",
       "...                                                  ...                ...   \n",
       "11060                                          ['drama']                 CN   \n",
       "11064                                ['comedy', 'drama']                 US   \n",
       "11067                                          ['drama']                 US   \n",
       "11068                                         ['comedy']                 US   \n",
       "11069                                          ['crime']                 IN   \n",
       "\n",
       "       seasons     imdb_id  imdb_score  imdb_votes  tmdb_popularity  \\\n",
       "0           26   tt0850645         8.6      1092.0           15.424   \n",
       "1            0   tt0017925         8.2     89766.0            8.647   \n",
       "2            0   tt0036868         8.1     63026.0            8.435   \n",
       "3            0   tt0032599         7.8     57835.0           11.270   \n",
       "4            0   tt0042593         7.9     30924.0            8.273   \n",
       "...        ...         ...         ...         ...              ...   \n",
       "11060        1         NaN         7.3       480.5           12.879   \n",
       "11064        0  tt15000128         3.9        50.0            2.076   \n",
       "11067        0   tt7672388         5.3        20.0            1.406   \n",
       "11068        0  tt15041600         5.9       460.0            0.600   \n",
       "11069        0         NaN         5.9       460.0            1.960   \n",
       "\n",
       "       tmdb_score  \n",
       "0             7.6  \n",
       "1             8.0  \n",
       "2             7.8  \n",
       "3             7.4  \n",
       "4             7.6  \n",
       "...           ...  \n",
       "11060         6.0  \n",
       "11064         6.0  \n",
       "11067         6.0  \n",
       "11068         6.0  \n",
       "11069         6.0  \n",
       "\n",
       "[10249 rows x 15 columns]"
      ]
     },
     "execution_count": 38,
     "metadata": {},
     "output_type": "execute_result"
    }
   ],
   "source": [
    "import re\n",
    "\n",
    "def extract_country_codes(value):\n",
    "    if pd.isna(value):\n",
    "        return []\n",
    "    if isinstance(value, list):\n",
    "        return value\n",
    "    if isinstance(value, str):\n",
    "        return re.findall(r\"'?([A-Z]{2})'?\", value)\n",
    "    return []\n",
    "\n",
    "titles['production_countries'] = titles['production_countries'].apply(extract_country_codes)\n",
    "\n",
    "titles = titles.explode('production_countries').reset_index(drop=True)\n",
    "\n",
    "titles = titles.rename(columns={'production_countries': 'production_country'})\n",
    "\n",
    "titles = titles.dropna(subset=['production_country'])\n",
    "titles = titles[titles['production_country'] != '']\n",
    "titles"
   ]
  },
  {
   "cell_type": "code",
   "execution_count": 39,
   "metadata": {},
   "outputs": [],
   "source": [
    "titles = titles.drop_duplicates()"
   ]
  },
  {
   "cell_type": "code",
   "execution_count": 40,
   "metadata": {},
   "outputs": [],
   "source": [
    "credits = credits.drop_duplicates()"
   ]
  },
  {
   "cell_type": "code",
   "execution_count": 41,
   "metadata": {},
   "outputs": [],
   "source": [
    "credits['character'] = credits['character'].fillna('Unknown')"
   ]
  },
  {
   "cell_type": "markdown",
   "metadata": {
    "id": "MSa1f5Uengrz"
   },
   "source": [
    "### What all manipulations have you done and insights you found?"
   ]
  },
  {
   "cell_type": "markdown",
   "metadata": {
    "id": "LbyXE7I1olp8"
   },
   "source": [
    "For movies, set seasons to 0, and for TV shows, replaced missing seasons with 1, converting the column to integer type.\n",
    "\n",
    "Filled missing age_certification values with \"Not Rated\".\n",
    "\n",
    "Replaced missing description values with \"No description\".\n",
    "\n",
    "Imputed missing values in imdb_score, imdb_votes, tmdb_popularity, and tmdb_score columns using median values calculated separately for movies and TV shows.\n",
    "\n",
    "Cleaned and parsed the production_countries column by splitting multiple country codes into separate rows for clearer country-wise analysis.\n",
    "\n",
    "Removed duplicate rows from both the titles and credits datasets.\n",
    "\n",
    "In the credits dataset, replaced unknown or missing categorical values with \"Unknown\"."
   ]
  },
  {
   "cell_type": "markdown",
   "metadata": {
    "id": "GF8Ens_Soomf"
   },
   "source": [
    "## ***4. Data Vizualization, Storytelling & Experimenting with charts : Understand the relationships between variables***"
   ]
  },
  {
   "cell_type": "markdown",
   "metadata": {
    "id": "0wOQAZs5pc--"
   },
   "source": [
    "#### Chart - 1"
   ]
  },
  {
   "cell_type": "code",
   "execution_count": 45,
   "metadata": {
    "id": "7v_ESjsspbW7",
    "scrolled": true
   },
   "outputs": [
    {
     "name": "stderr",
     "output_type": "stream",
     "text": [
      "C:\\Users\\Suraj kumar gautam\\AppData\\Local\\Temp\\ipykernel_13596\\646730790.py:6: SettingWithCopyWarning: \n",
      "A value is trying to be set on a copy of a slice from a DataFrame.\n",
      "Try using .loc[row_indexer,col_indexer] = value instead\n",
      "\n",
      "See the caveats in the documentation: https://pandas.pydata.org/pandas-docs/stable/user_guide/indexing.html#returning-a-view-versus-a-copy\n",
      "  titles['genres'] = titles['genres'].fillna('[]').apply(eval)\n"
     ]
    },
    {
     "data": {
      "image/png": "[encoded data removed]",
      "text/plain": [
       "<Figure size 1000x600 with 1 Axes>"
      ]
     },
     "metadata": {},
     "output_type": "display_data"
    }
   ],
   "source": [
    "# Top 10 Genres\n",
    "# Convert 'genres' from string to list \n",
    "titles['genres'] = titles['genres'].fillna('[]').apply(eval)\n",
    "\n",
    "# Explode the list to get one genre per row\n",
    "genres_exploded = titles.explode('genres')\n",
    "\n",
    "# Count the frequency of each genre\n",
    "genre_counts = genres_exploded['genres'].value_counts().head(10)\n",
    "\n",
    "plt.figure(figsize=(10, 6))\n",
    "genre_counts.plot(kind='barh', color='skyblue')\n",
    "plt.xlabel('Number of Titles')\n",
    "plt.ylabel('Genre')\n",
    "plt.title('Top 10 Genres on Amazon Prime')\n",
    "plt.gca().invert_yaxis()  # Highest on top\n",
    "plt.show()"
   ]
  },
  {
   "cell_type": "markdown",
   "metadata": {
    "id": "K5QZ13OEpz2H"
   },
   "source": [
    "##### 1. Why did you pick the specific chart?"
   ]
  },
  {
   "cell_type": "markdown",
   "metadata": {
    "id": "XESiWehPqBRc"
   },
   "source": [
    "Horizontal bar charts are ideal for comparing categories with long names, as they fit better along the y-axis without overlapping.\n",
    "\n",
    "It helps in easily visualizing which genres are the most and least popular, in ranked order."
   ]
  },
  {
   "cell_type": "markdown",
   "metadata": {
    "id": "lQ7QKXXCp7Bj"
   },
   "source": [
    "##### 2. What is/are the insight(s) found from the chart?"
   ]
  },
  {
   "cell_type": "markdown",
   "metadata": {
    "id": "C_j1G7yiqdRP"
   },
   "source": [
    "Drama is the most dominant genre on Amazon Prime with around 5000 titles, followed by Comedy (4000), and Thriller. Action, Romance, and Crime also feature prominently, while Family content has fewer titles (1000), indicating a stronger focus on mature or general audience genres"
   ]
  },
  {
   "cell_type": "markdown",
   "metadata": {
    "id": "448CDAPjqfQr"
   },
   "source": [
    "##### 3. Will the gained insights help creating a positive business impact?\n",
    "Are there any insights that lead to negative growth? Justify with specific reason."
   ]
  },
  {
   "cell_type": "markdown",
   "metadata": {
    "id": "3cspy4FjqxJW"
   },
   "source": [
    "Yes, knowing which types of shows are most popular helps Amazon Prime decide what kinds of shows to add or promote. Since Drama and Comedy are liked by many, they can focus on those to keep more viewers happy. Also, seeing that Family shows are fewer means they can add more to attract families and more people. If they don’t improve in this area, they might lose potential subscribers who want more family-friendly content."
   ]
  },
  {
   "cell_type": "markdown",
   "metadata": {
    "id": "KSlN3yHqYklG"
   },
   "source": [
    "#### Chart - 2"
   ]
  },
  {
   "cell_type": "code",
   "execution_count": 46,
   "metadata": {
    "id": "R4YgtaqtYklH"
   },
   "outputs": [
    {
     "data": {
      "image/png": "[encoded data removed]",
      "text/plain": [
       "<Figure size 1000x600 with 1 Axes>"
      ]
     },
     "metadata": {},
     "output_type": "display_data"
    }
   ],
   "source": [
    "# Count content by country\n",
    "country_counts = titles['production_country'].value_counts().head(10)\n",
    "\n",
    "plt.figure(figsize=(10, 6))\n",
    "country_counts.plot(kind='bar', color='salmon')\n",
    "plt.title('Top 10 Countries by Content Production on Amazon Prime')\n",
    "plt.xlabel('Country')\n",
    "plt.ylabel('Number of Titles')\n",
    "plt.xticks(rotation=45)\n",
    "plt.grid(axis='y', linestyle='--', alpha=0.7)\n",
    "plt.tight_layout()\n",
    "plt.show()\n"
   ]
  },
  {
   "cell_type": "markdown",
   "metadata": {
    "id": "t6dVpIINYklI"
   },
   "source": [
    "##### 1. Why did you pick the specific chart?"
   ]
  },
  {
   "cell_type": "markdown",
   "metadata": {
    "id": "5aaW0BYyYklI"
   },
   "source": [
    "I picked a bar chart because it’s simple and perfect for comparing the number of titles produced by different countries. It clearly shows which regions have the most or least content, making it easy to spot differences at a glance."
   ]
  },
  {
   "cell_type": "markdown",
   "metadata": {
    "id": "ijmpgYnKYklI"
   },
   "source": [
    "##### 2. What is/are the insight(s) found from the chart?"
   ]
  },
  {
   "cell_type": "markdown",
   "metadata": {
    "id": "PSx9atu2YklI"
   },
   "source": [
    "The United States has the highest number of titles—over 5000—which clearly shows it dominates the content on the platform. India and the UK follow, with around 1000 titles each. Canada and France have fewer than 1000, while countries like Australia, Germany, China, and Italy contribute a much smaller amount. This suggests that most of the content comes from a few key regions, mainly the US and English-speaking countries."
   ]
  },
  {
   "cell_type": "markdown",
   "metadata": {
    "id": "-JiQyfWJYklI"
   },
   "source": [
    "##### 3. Will the gained insights help creating a positive business impact?\n",
    "Are there any insights that lead to negative growth? Justify with specific reason."
   ]
  },
  {
   "cell_type": "markdown",
   "metadata": {
    "id": "BcBbebzrYklV"
   },
   "source": [
    "Yes, the insights help Amazon Prime see which regions have the most content, like the US and India, guiding where to invest more.\n",
    "But regions like Germany, Italy, and China have very little content, which might cause slower growth or user loss there.\n",
    "Balancing content globally can improve reach and user satisfaction."
   ]
  },
  {
   "cell_type": "markdown",
   "metadata": {
    "id": "EM7whBJCYoAo"
   },
   "source": [
    "#### Chart - 3"
   ]
  },
  {
   "cell_type": "code",
   "execution_count": 47,
   "metadata": {
    "id": "t6GMdE67YoAp"
   },
   "outputs": [
    {
     "data": {
      "image/png": "[encoded data removed]",
      "text/plain": [
       "<Figure size 1200x600 with 1 Axes>"
      ]
     },
     "metadata": {},
     "output_type": "display_data"
    }
   ],
   "source": [
    "# Remove rows having missing values\n",
    "titles_clean = titles[titles['release_year'].notna()]\n",
    "\n",
    "# Group by release_year and count titles\n",
    "yearly_counts = titles_clean.groupby('release_year').size()\n",
    "\n",
    "plt.figure(figsize=(12,6))\n",
    "yearly_counts.plot(kind='line', marker='o', color='green')\n",
    "plt.title('Evolution of Amazon Prime Content Library Over the Years')\n",
    "plt.xlabel('Release Year')\n",
    "plt.ylabel('Number of Titles')\n",
    "plt.grid(True)\n",
    "plt.show()\n"
   ]
  },
  {
   "cell_type": "markdown",
   "metadata": {
    "id": "fge-S5ZAYoAp"
   },
   "source": [
    "##### 1. Why did you pick the specific chart?"
   ]
  },
  {
   "cell_type": "markdown",
   "metadata": {
    "id": "5dBItgRVYoAp"
   },
   "source": [
    "I picked a line chart because it clearly shows trends over time. Since we want to see how the Amazon Prime content library has grown or changed year by year, a line chart makes it easy to understand whether the number of titles is increasing, decreasing, or staying the same across different years. It’s simple and effective for showing changes over a continuous time period."
   ]
  },
  {
   "cell_type": "markdown",
   "metadata": {
    "id": "85gYPyotYoAp"
   },
   "source": [
    "##### 2. What is/are the insight(s) found from the chart?"
   ]
  },
  {
   "cell_type": "markdown",
   "metadata": {
    "id": "4jstXR6OYoAp"
   },
   "source": [
    "From the line chart, we can see that the number of titles on Amazon Prime has generally increased over the years, showing steady growth in the content library.However, around 2020 there is a drop, which could be due to changes in licensing or strategy."
   ]
  },
  {
   "cell_type": "markdown",
   "metadata": {
    "id": "RoGjAbkUYoAp"
   },
   "source": [
    "##### 3. Will the gained insights help creating a positive business impact?\n",
    "Are there any insights that lead to negative growth? Justify with specific reason."
   ]
  },
  {
   "cell_type": "markdown",
   "metadata": {
    "id": "zfJ8IqMcYoAp"
   },
   "source": [
    "The steady growth in Amazon Prime’s content library shows they are actively expanding, which can attract more subscribers and improve customer satisfaction—this is positive for business. However, the drop around 2020 could signal challenges like losing content licenses or strategic shifts that might temporarily reduce customer interest, which could have a negative impact if not managed well."
   ]
  },
  {
   "cell_type": "markdown",
   "metadata": {
    "id": "4Of9eVA-YrdM"
   },
   "source": [
    "#### Chart - 4"
   ]
  },
  {
   "cell_type": "code",
   "execution_count": 48,
   "metadata": {
    "id": "irlUoxc8YrdO"
   },
   "outputs": [
    {
     "data": {
      "image/png": "[encoded data removed]",
      "text/plain": [
       "<Figure size 1000x600 with 1 Axes>"
      ]
     },
     "metadata": {},
     "output_type": "display_data"
    }
   ],
   "source": [
    "\n",
    "# Filter only TV Shows\n",
    "shows = titles[titles['type'] == 'SHOW']\n",
    "\n",
    "# Sort by IMDb Score and take top 10\n",
    "top_rated = shows.sort_values(by='imdb_score', ascending=False).dropna(subset=['imdb_score']).head(10)\n",
    "\n",
    "plt.figure(figsize=(10, 6))\n",
    "plt.barh(top_rated['title'], top_rated['imdb_score'], color='mediumseagreen')\n",
    "plt.xlabel('IMDb Score')\n",
    "plt.title('Top 10 Highest Rated Shows on Amazon Prime')\n",
    "plt.gca().invert_yaxis()\n",
    "plt.show()\n"
   ]
  },
  {
   "cell_type": "markdown",
   "metadata": {
    "id": "iky9q4vBYrdO"
   },
   "source": [
    "##### 1. Why did you pick the specific chart?"
   ]
  },
  {
   "cell_type": "markdown",
   "metadata": {
    "id": "aJRCwT6DYrdO"
   },
   "source": [
    "I picked a horizontal bar chart because show titles can be long, and this chart makes it easier to display them clearly. It also helps compare the ratings side by side without clutter."
   ]
  },
  {
   "cell_type": "markdown",
   "metadata": {
    "id": "F6T5p64dYrdO"
   },
   "source": [
    "##### 2. What is/are the insight(s) found from the chart?"
   ]
  },
  {
   "cell_type": "markdown",
   "metadata": {
    "id": "Xx8WAJvtYrdO"
   },
   "source": [
    "The chart shows that the highest-rated or most popular shows on Amazon Prime have IMDB scores close to 8.5 or above, indicating very strong audience appreciation. Shows like Couple of Mirros adn The chosen are doing great."
   ]
  },
  {
   "cell_type": "markdown",
   "metadata": {
    "id": "y-Ehk30pYrdP"
   },
   "source": [
    "##### 3. Will the gained insights help creating a positive business impact?\n",
    "Are there any insights that lead to negative growth? Justify with specific reason."
   ]
  },
  {
   "cell_type": "markdown",
   "metadata": {
    "id": "jLNxxz7MYrdP"
   },
   "source": [
    "Yes. Highlighting and promoting top-rated shows can improve user retention and attract new subscribers looking for quality content."
   ]
  },
  {
   "cell_type": "markdown",
   "metadata": {
    "id": "bamQiAODYuh1"
   },
   "source": [
    "#### Chart - 5"
   ]
  },
  {
   "cell_type": "code",
   "execution_count": 49,
   "metadata": {
    "id": "TIJwrbroYuh3"
   },
   "outputs": [
    {
     "data": {
      "image/png": "[encoded data removed]",
      "text/plain": [
       "<Figure size 600x600 with 1 Axes>"
      ]
     },
     "metadata": {},
     "output_type": "display_data"
    }
   ],
   "source": [
    "plt.figure(figsize=(6,6))\n",
    "titles['type'].value_counts().plot(kind='pie', autopct='%1.1f%%', colors=['lightblue','lightgreen'])\n",
    "plt.title('Movies vs TV Shows on Amazon Prime')\n",
    "plt.ylabel('')\n",
    "plt.show()\n"
   ]
  },
  {
   "cell_type": "markdown",
   "metadata": {
    "id": "QHF8YVU7Yuh3"
   },
   "source": [
    "##### 1. Why did you pick the specific chart?"
   ]
  },
  {
   "cell_type": "markdown",
   "metadata": {
    "id": "dcxuIMRPYuh3"
   },
   "source": [
    "I chose the pie chart because it gives a clear and quick visual comparison of the proportion of movies vs TV shows on Amazon Prime."
   ]
  },
  {
   "cell_type": "markdown",
   "metadata": {
    "id": "GwzvFGzlYuh3"
   },
   "source": [
    "##### 2. What is/are the insight(s) found from the chart?"
   ]
  },
  {
   "cell_type": "markdown",
   "metadata": {
    "id": "uyqkiB8YYuh3"
   },
   "source": [
    "The majority of content on Amazon Prime is movies (87.4%), while TV shows make up only 12.6%. This shows that Amazon Prime focuses more on movie content than series. If users are looking for TV shows, they might find fewer options compared to movies."
   ]
  },
  {
   "cell_type": "markdown",
   "metadata": {
    "id": "qYpmQ266Yuh3"
   },
   "source": [
    "##### 3. Will the gained insights help creating a positive business impact?\n",
    "Are there any insights that lead to negative growth? Justify with specific reason."
   ]
  },
  {
   "cell_type": "markdown",
   "metadata": {
    "id": "_WtzZ_hCYuh4"
   },
   "source": [
    "Knowing that movies dominate the platform helps Amazon Prime focus on what most users prefer. They can continue investing in a wide variety of movies to keep the audience engaged. However, the low percentage of TV shows (12.6%) might be a gap. Some users may prefer series, and if they don’t find enough good options, they might switch to competitors like Netflix."
   ]
  },
  {
   "cell_type": "markdown",
   "metadata": {
    "id": "NC_X3p0fY2L0"
   },
   "source": [
    "#### Chart - 6 - Correlation Heatmap"
   ]
  },
  {
   "cell_type": "code",
   "execution_count": 50,
   "metadata": {
    "id": "xyC9zolEZNRQ"
   },
   "outputs": [
    {
     "data": {
      "image/png": "[encoded data removed]",
      "text/plain": [
       "<Figure size 800x600 with 2 Axes>"
      ]
     },
     "metadata": {},
     "output_type": "display_data"
    }
   ],
   "source": [
    "# Selecting columns for correlation\n",
    "num_cols = titles[['imdb_score', 'imdb_votes', 'tmdb_score', 'tmdb_popularity', 'runtime']]\n",
    "\n",
    "# Compute correlation\n",
    "correlation_matrix = num_cols.corr()\n",
    "\n",
    "plt.figure(figsize=(8, 6))\n",
    "sns.heatmap(correlation_matrix, annot=True, cmap='coolwarm', fmt=\".2f\")\n",
    "plt.title('Correlation Heatmap of Key Numerical Features')\n",
    "plt.show()\n"
   ]
  },
  {
   "cell_type": "markdown",
   "metadata": {
    "id": "UV0SzAkaZNRQ"
   },
   "source": [
    "##### 1. Why did you pick the specific chart?"
   ]
  },
  {
   "cell_type": "markdown",
   "metadata": {
    "id": "DVPuT8LYZNRQ"
   },
   "source": [
    "I picked the correlation heatmap because it’s a simple and effective way to understand how different numerical features like ratings, votes, popularity, and runtime are related to each other. It helps to quickly spot which variables move together and which don’t."
   ]
  },
  {
   "cell_type": "markdown",
   "metadata": {
    "id": "YPEH6qLeZNRQ"
   },
   "source": [
    "##### 2. What is/are the insight(s) found from the chart?"
   ]
  },
  {
   "cell_type": "markdown",
   "metadata": {
    "id": "bfSqtnDqZNRR"
   },
   "source": [
    "IMDB score and TMDB score are moderately correlated (0.55), so higher ratings on one platform tend to match higher ratings on the other.\n",
    "IMDB votes and TMDB popularity have a weak positive correlation (0.25), meaning titles that are more popular on TMDB tend to have more votes on IMDB, but the relationship is weak.\n",
    "Runtime has very little or negative correlation with scores and popularity, meaning the length of a movie/show doesn’t strongly affect its rating or popularity."
   ]
  },
  {
   "cell_type": "markdown",
   "metadata": {
    "id": "JcMwzZxoAimU"
   },
   "source": [
    "## **5. Solution to Business Objective**"
   ]
  },
  {
   "cell_type": "markdown",
   "metadata": {
    "id": "8G2x9gOozGDZ"
   },
   "source": [
    "#### What do you suggest the client to achieve Business Objective ?\n",
    "Explain Briefly."
   ]
  },
  {
   "cell_type": "markdown",
   "metadata": {
    "id": "pASKb0qOza21"
   },
   "source": [
    "To help Amazon Prime grow, I suggest they focus on making and adding more popular genres like Drama and Comedy, because many viewers like these. They should also add more shows and movies for countries outside the US, like India and the UK, to attract more users worldwide. It’s important to keep the quality high by choosing good-rated content, so viewers stay interested. Finally, they should plan better for when new shows and movies come out to keep the library fresh all the time."
   ]
  },
  {
   "cell_type": "markdown",
   "metadata": {
    "id": "gCX9965dhzqZ"
   },
   "source": [
    "# **Conclusion**"
   ]
  },
  {
   "cell_type": "markdown",
   "metadata": {
    "id": "Fjb1IsQkh3yE"
   },
   "source": [
    "In conclusion, analyzing the data shows that focusing on popular genres and expanding content in different regions can help Amazon Prime attract and keep more viewers. Maintaining high-quality content and regularly updating the library will support continued growth and a strong position in the competitive streaming market."
   ]
  },
  {
   "cell_type": "markdown",
   "metadata": {
    "id": "gIfDvo9L0UH2"
   },
   "source": [
    "### ***Hurrah! You have successfully completed your EDA Capstone Project !!!***"
   ]
  },
  {
   "cell_type": "code",
   "execution_count": null,
   "metadata": {
    "id": "dYX880etpL0x"
   },
   "outputs": [],
   "source": []
  },
  {
   "cell_type": "code",
   "execution_count": null,
   "metadata": {
    "id": "-6Vl263upPVI"
   },
   "outputs": [],
   "source": []
  }
 ],
 "metadata": {
  "colab": {
   "collapsed_sections": [
    "vncDsAP0Gaoa",
    "FJNUwmbgGyua",
    "w6K7xa23Elo4",
    "yQaldy8SH6Dl",
    "PH-0ReGfmX4f",
    "mDgbUHAGgjLW",
    "O_i_v8NEhb9l",
    "HhfV-JJviCcP",
    "Y3lxredqlCYt",
    "3RnN4peoiCZX",
    "x71ZqKXriCWQ",
    "7hBIi_osiCS2",
    "JlHwYmJAmNHm",
    "35m5QtbWiB9F",
    "PoPl-ycgm1ru",
    "H0kj-8xxnORC",
    "nA9Y7ga8ng1Z",
    "PBTbrJXOngz2",
    "u3PMJOP6ngxN",
    "dauF4eBmngu3",
    "bKJF3rekwFvQ",
    "MSa1f5Uengrz",
    "GF8Ens_Soomf",
    "0wOQAZs5pc--",
    "K5QZ13OEpz2H",
    "lQ7QKXXCp7Bj",
    "448CDAPjqfQr",
    "KSlN3yHqYklG",
    "t6dVpIINYklI",
    "ijmpgYnKYklI",
    "-JiQyfWJYklI",
    "EM7whBJCYoAo",
    "fge-S5ZAYoAp",
    "85gYPyotYoAp",
    "RoGjAbkUYoAp",
    "4Of9eVA-YrdM",
    "iky9q4vBYrdO",
    "F6T5p64dYrdO",
    "y-Ehk30pYrdP",
    "bamQiAODYuh1",
    "QHF8YVU7Yuh3",
    "GwzvFGzlYuh3",
    "qYpmQ266Yuh3",
    "OH-pJp9IphqM",
    "bbFf2-_FphqN",
    "_ouA3fa0phqN",
    "Seke61FWphqN",
    "PIIx-8_IphqN",
    "t27r6nlMphqO",
    "r2jJGEOYphqO",
    "b0JNsNcRphqO",
    "BZR9WyysphqO",
    "jj7wYXLtphqO",
    "eZrbJ2SmphqO",
    "rFu4xreNphqO",
    "YJ55k-q6phqO",
    "gCFgpxoyphqP",
    "OVtJsKN_phqQ",
    "lssrdh5qphqQ",
    "U2RJ9gkRphqQ",
    "1M8mcRywphqQ",
    "tgIPom80phqQ",
    "JMzcOPDDphqR",
    "x-EpHcCOp1ci",
    "X_VqEhTip1ck",
    "8zGJKyg5p1ck",
    "PVzmfK_Ep1ck",
    "n3dbpmDWp1ck",
    "ylSl6qgtp1ck",
    "ZWILFDl5p1ck",
    "M7G43BXep1ck",
    "Ag9LCva-p1cl",
    "E6MkPsBcp1cl",
    "2cELzS2fp1cl",
    "3MPXvC8up1cl",
    "NC_X3p0fY2L0",
    "UV0SzAkaZNRQ",
    "YPEH6qLeZNRQ",
    "q29F0dvdveiT",
    "EXh0U9oCveiU",
    "22aHeOlLveiV",
    "JcMwzZxoAimU",
    "8G2x9gOozGDZ",
    "gCX9965dhzqZ",
    "gIfDvo9L0UH2"
   ],
   "private_outputs": true,
   "provenance": []
  },
  "kernelspec": {
   "display_name": "Python 3 (ipykernel)",
   "language": "python",
   "name": "python3"
  },
  "language_info": {
   "codemirror_mode": {
    "name": "ipython",
    "version": 3
   },
   "file_extension": ".py",
   "mimetype": "text/x-python",
   "name": "python",
   "nbconvert_exporter": "python",
   "pygments_lexer": "ipython3",
   "version": "3.12.7"
  }
 },
 "nbformat": 4,
 "nbformat_minor": 4
}
